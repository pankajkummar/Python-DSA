{
 "cells": [
  {
   "cell_type": "markdown",
   "metadata": {},
   "source": [
    "## List\n"
   ]
  },
  {
   "cell_type": "code",
   "execution_count": 1,
   "metadata": {},
   "outputs": [
    {
     "name": "stdout",
     "output_type": "stream",
     "text": [
      "Milk\n",
      "Cheese\n",
      "Butter\n"
     ]
    }
   ],
   "source": [
    "shop=['Milk','Cheese','Butter']\n",
    "for i in range(len(shop)):\n",
    "    print(shop[i])"
   ]
  },
  {
   "cell_type": "code",
   "execution_count": 5,
   "metadata": {},
   "outputs": [
    {
     "name": "stdout",
     "output_type": "stream",
     "text": [
      "[1, 2, 3, 4, 5, 6]\n",
      "[1, 2, 3, 4, 15, 5, 6]\n",
      "[1, 2, 3, 4, 15, 5, 6, 55]\n",
      "[1, 2, 3, 4, 15, 5, 6, 55, 'Milk', 'Cheese', 'Butter']\n"
     ]
    }
   ],
   "source": [
    "#adding data in list at given position\n",
    "mylist = [1,2,3,4,5,6]\n",
    "print(mylist)\n",
    "mylist.insert(4,15)\n",
    "print(mylist)\n",
    "\n",
    "# appending data in list\n",
    "mylist.append(55) # append data at the end\n",
    "print(mylist)\n",
    "\n",
    "#extending a list by adding another list\n",
    "\n",
    "mylist.extend(shop)\n",
    "print(mylist)\n",
    "\n"
   ]
  },
  {
   "cell_type": "code",
   "execution_count": 14,
   "metadata": {},
   "outputs": [
    {
     "name": "stdout",
     "output_type": "stream",
     "text": [
      "[1, 2]\n",
      "[1, 2, 3, 4, 5, 6, 7, 8, 9]\n",
      "[1, 3, 5, 7, 9]\n",
      "[1, 4, 7]\n",
      "['x', 'y', 3, 4, 5, 6, 7, 8, 9]\n",
      "['z', 3, 4, 5, 6, 7, 8, 9]\n"
     ]
    }
   ],
   "source": [
    "# slice : and deletion of list\n",
    "mylist = [1,2,3,4,5,6,7,8,9]\n",
    "\n",
    "print(mylist[0:2])  # 0 is included 2 is not included take value from range [0,2)\n",
    "print(mylist[:]) # returns all the value\n",
    "print(mylist[::2]) # return values by leaving alternate index\n",
    "print(mylist[::3])\n",
    "\n",
    "#updating a list using slice\n",
    "mylist[0:2]=['x','y']\n",
    "print(mylist)\n",
    "mylist[0:2]=['z']\n",
    "print(mylist)"
   ]
  },
  {
   "cell_type": "code",
   "execution_count": 17,
   "metadata": {},
   "outputs": [
    {
     "name": "stdout",
     "output_type": "stream",
     "text": [
      "[1, 2, 3, 4, 5, 6, 7, 8, 9]\n",
      "[1, 3, 4, 5, 6, 7, 8, 9]\n",
      "9\n",
      "[1, 3, 4, 5, 6, 7, 8]\n"
     ]
    }
   ],
   "source": [
    "# operations of list pop()\n",
    "mylist=[1,2,3,4,5,6,7,8,9]\n",
    "print(mylist)\n",
    "mylist.pop(1) # return index element and remove from list\n",
    "print(mylist) \n",
    "print(mylist.pop()) #return and delete last element\n",
    "print(mylist)"
   ]
  },
  {
   "cell_type": "code",
   "execution_count": 18,
   "metadata": {},
   "outputs": [
    {
     "name": "stdout",
     "output_type": "stream",
     "text": [
      "[1, 2, 3, 4, 5, 6, 7, 8, 9]\n",
      "[1, 2, 5, 6, 7, 8, 9]\n"
     ]
    }
   ],
   "source": [
    "# delete() operation on list\n",
    "mylist=[1,2,3,4,5,6,7,8,9]\n",
    "print(mylist)\n",
    "del mylist[2:4]\n",
    "print(mylist)"
   ]
  },
  {
   "cell_type": "code",
   "execution_count": 23,
   "metadata": {},
   "outputs": [
    {
     "name": "stdout",
     "output_type": "stream",
     "text": [
      "[1, 2, 3, 4, 5, 6, 7, 7, 8, 9]\n",
      "[2, 3, 4, 5, 6, 7, 7, 8, 9]\n",
      "[2, 3, 4, 5, 6, 7, 8, 9]\n"
     ]
    }
   ],
   "source": [
    "# remove () operation. remove the given value from list (delete only 1 not all the duplicates)\n",
    "mylist=[1,2,3,4,5,6,7,7,8,9]\n",
    "print(mylist)\n",
    "mylist.remove(1)\n",
    "print(mylist)\n",
    "mylist.remove(7)\n",
    "print(mylist)"
   ]
  },
  {
   "cell_type": "code",
   "execution_count": 28,
   "metadata": {},
   "outputs": [
    {
     "name": "stdout",
     "output_type": "stream",
     "text": [
      "[1, 2, 3, 4, 5, 6, 7, 8, 9]\n",
      "2\n",
      "value not present\n"
     ]
    }
   ],
   "source": [
    "# in operator find if value present or not in list\n",
    "mylist=[1,2,3,4,5,6,7,8,9]\n",
    "print(mylist)\n",
    "def searchinList(mylist,value):\n",
    "    if value in mylist:\n",
    "        print(mylist.index(value)) # give index of value in list\n",
    "    else:\n",
    "        print(\"value not present\")\n",
    "searchinList(mylist,3)\n",
    "searchinList(mylist,10)"
   ]
  },
  {
   "cell_type": "code",
   "execution_count": 34,
   "metadata": {},
   "outputs": [
    {
     "name": "stdout",
     "output_type": "stream",
     "text": [
      "[1, 2, 3, 4, 5, 6, 3, 7, 8, 9, 10]\n",
      "11\n",
      "10\n",
      "1\n",
      "58\n"
     ]
    }
   ],
   "source": [
    "mylist=[1,2,3,4,5,6,3,7,8,9,10]\n",
    "print(mylist)\n",
    "print(len(mylist))\n",
    "print(max(mylist))\n",
    "print(min(mylist))\n",
    "print(sum(mylist))\n",
    "print()"
   ]
  },
  {
   "cell_type": "code",
   "execution_count": 43,
   "metadata": {},
   "outputs": [
    {
     "name": "stdout",
     "output_type": "stream",
     "text": [
      "['s', 'p', 'a', 'm']\n",
      "['hello', 'there']\n",
      "['hello', 'there']\n",
      "hello , there\n"
     ]
    }
   ],
   "source": [
    "# strings to list\n",
    "a = 'spam'\n",
    "b = list(a)\n",
    "print(b)\n",
    "a = 'hello there'\n",
    "b = a.split() # default delemeter is space\n",
    "print(b)\n",
    "a = 'hello,there'\n",
    "b = a.split(',') # default delemeter is space\n",
    "print(b)\n",
    "print(\" , \".join(b))"
   ]
  },
  {
   "cell_type": "code",
   "execution_count": 48,
   "metadata": {},
   "outputs": [
    {
     "name": "stdout",
     "output_type": "stream",
     "text": [
      "[1, 2, 3, 4, 5, 9, 6, 8, 7]\n",
      "[1, 2, 3, 4, 5, 6, 7, 8, 9]\n",
      "[1, 2, 3, 4, 5, 9, 6, 8, 7]\n",
      "[1, 2, 3, 4, 5, 6, 7, 8, 9]\n",
      "[1, 2, 3, 4, 5, 9, 6, 8, 7]\n"
     ]
    }
   ],
   "source": [
    "# short and list useful things\n",
    "mylist = [1,2,3,4,5,9,6,8,7]\n",
    "print(mylist)\n",
    "mylist.sort()  # orignal get modified\n",
    "print(mylist)\n",
    "mylist = [1,2,3,4,5,9,6,8,7]\n",
    "print(mylist)\n",
    "newlist = sorted(mylist) # orignal remain same copy is modified and returned\n",
    "print(newlist)\n",
    "print(mylist)"
   ]
  },
  {
   "cell_type": "markdown",
   "metadata": {},
   "source": [
    "## Dictionary\n",
    "### A dictionary is a collection which is unordered, changeable and indexed"
   ]
  },
  {
   "cell_type": "code",
   "execution_count": 54,
   "metadata": {},
   "outputs": [
    {
     "name": "stdout",
     "output_type": "stream",
     "text": [
      "{}\n",
      "{}\n",
      "{'goodmorning': 'suprabhat', 'afternoon': 'sandhya'}\n",
      "suprabhat\n"
     ]
    }
   ],
   "source": [
    "myDict1 = dict() # create empty dictionary \n",
    "print(myDict1)\n",
    "mydict2 = {}     # second method for creating empty dictionary\n",
    "print(mydict2)\n",
    "engtoHindi={'goodmorning':'suprabhat','afternoon':'sandhya'} #values as key value pair\n",
    "print(engtoHindi)\n",
    "print(engtoHindi['goodmorning'])"
   ]
  },
  {
   "cell_type": "code",
   "execution_count": 83,
   "metadata": {},
   "outputs": [
    {
     "name": "stdout",
     "output_type": "stream",
     "text": [
      "{'name': 'pankaj', 'age': 25, 'phone': '7594795250'}\n",
      "{'name': 'pankaj', 'age': 25, 'phone': '7594795250', 'address': 'Hazaribag'}\n",
      "{'name': 'pankaj', 'age': 25, 'phone': '9999999999', 'address': 'Hazaribag'}\n",
      "not present\n",
      "{'name': 'pankaj', 'age': 25, 'address': 'Hazaribag'}\n",
      "('address', 'Hazaribag')\n",
      "{'name': 'pankaj', 'age': 25}\n",
      "{}\n"
     ]
    }
   ],
   "source": [
    "# insert and update and delete element in Dictionary\n",
    "profile = {'name':'pankaj','age':25,'phone':'7594795250'}\n",
    "print(profile)\n",
    "profile['address']='Hazaribag'   #element got added O(1)\n",
    "print(profile)\n",
    "profile['phone']='9999999999'\n",
    "print(profile)\n",
    "profile.pop('phone') #pop phone\n",
    "print(profile.pop('name1','not present'))# return default value if key is not present\n",
    "print(profile)\n",
    "print(profile.popitem()) #pop randomly any item from dict\n",
    "print(profile)\n",
    "profile.clear() #delete all element from dict\n",
    "print(profile)"
   ]
  },
  {
   "cell_type": "code",
   "execution_count": 70,
   "metadata": {},
   "outputs": [
    {
     "name": "stdout",
     "output_type": "stream",
     "text": [
      "{'name': 'pankaj', 'age': 25, 'phone': '7594795250'}\n",
      "name pankaj\n",
      "age 25\n",
      "phone 7594795250\n"
     ]
    }
   ],
   "source": [
    "# traversing through a dictionary T=O(n), S=O(1)\n",
    "profile = {'name':'pankaj','age':25,'phone':'7594795250'}\n",
    "print(profile)\n",
    "def traverseDict(dict):\n",
    "    for key in dict:\n",
    "        print(key, dict[key])     #----> O(1)\n",
    "traverseDict(profile)"
   ]
  },
  {
   "cell_type": "code",
   "execution_count": 95,
   "metadata": {},
   "outputs": [
    {
     "name": "stdout",
     "output_type": "stream",
     "text": [
      "{'name': 'pankaj', 'age': 25, 'phone': '7594795250'}\n",
      "{'name': 'pankaj', 'age': 25, 'phone': '7594795250'}\n",
      "{'name': 'pankaj', 'age': 25, 'phone': '7594795250'} orignal\n",
      "{'name': 'pankaj', 'age': 25, 'phone': '7594795250', 'address': 'ranchi'} copy\n",
      "{1: 'anyvalue', 2: 'anyvalue', 3: 'anyvalue'}\n",
      "25\n",
      "28\n",
      "dict_items([('name', 'pankaj'), ('age', 25), ('phone', '7594795250')])\n",
      "dict_keys(['name', 'age', 'phone'])\n",
      "return values dict_values(['pankaj', 25, '7594795250'])\n",
      "pankaj\n",
      "IIT palakkad\n",
      "{'name': 'pankaj', 'age': 25, 'phone': '7594795250', 'college': 'IIT palakkad'}\n",
      "{'name': 'pankaj', 'age': 25, 'phone': '7594795250', 'college': 'IIT madras'}\n",
      "{'name': 'pankaj', 'age': 25, 'phone': '7594795250', 'college': 'IIT madras', 'friend': 'ayishu'}\n",
      "['age', 'college', 'friend', 'name', 'phone']\n",
      "['phone', 'name', 'friend', 'college', 'age']\n"
     ]
    }
   ],
   "source": [
    "# methods for dictionary copy(), fromkeys(),\n",
    "profile = {'name':'pankaj','age':25,'phone':'7594795250'}\n",
    "print(profile)\n",
    "copyprofile = profile.copy() #return shalow copy of dictionary\n",
    "print(copyprofile)\n",
    "copyprofile['address']='ranchi'\n",
    "print(profile,\"orignal\")\n",
    "print(copyprofile,\"copy\")\n",
    "#fromkeys()\n",
    "newdict = {}.fromkeys([1,2,3],'anyvalue')\n",
    "print(newdict)\n",
    "#get(key,value)\n",
    "print(copyprofile.get('age',28)) #return value for age if key not present it will return 28\n",
    "print(copyprofile.get('aage',28)) # return 28 as aage is not found\n",
    "print(profile.items()) #return element of dictionary as tuples\n",
    "print(profile.keys()) # return all the keys as list\n",
    "print(\"return values\",profile.values()) # return values\n",
    "#set default\n",
    "print(profile.setdefault('name','added')) # if key doesnot present it will add the default value for the key in dict otherwise return value\n",
    "print(profile.setdefault('college','IIT palakkad'))\n",
    "print(profile) # college added\n",
    "# update method -> add element if key not present and update if key present -> return none\n",
    "profile.update({'college':'IIT madras'}) # can be used to add new dictionary also\n",
    "print(profile)\n",
    "profile.update({'friend':'ayishu'})\n",
    "print(profile)\n",
    "len(profile) #return no of pairs\n",
    "print(sorted(profile)) # by default return keys in sorted array\n",
    "print(sorted(profile,reverse=True)) # reverse\n",
    "print(sorted(profile))\n",
    "\n",
    "\n"
   ]
  },
  {
   "cell_type": "markdown",
   "metadata": {},
   "source": [
    "## Tuples\n",
    "###  immutable sequence of values"
   ]
  },
  {
   "cell_type": "code",
   "execution_count": 104,
   "metadata": {},
   "outputs": [
    {
     "name": "stdout",
     "output_type": "stream",
     "text": [
      "('a', 'b', 'c', 'd') ()\n",
      "('a', 'b', 'c', 'd', 'e', 'r', 'f')\n",
      "b\n"
     ]
    }
   ],
   "source": [
    "# declaration of tuple , all array operator works for tuple\n",
    "newTuple = ('a','b','c','d')\n",
    "emptyTuple = tuple()\n",
    "print(newTuple,emptyTuple)\n",
    "tuple1= tuple('abcderf')\n",
    "print(tuple1)\n",
    "print(tuple1[1])\n",
    "# tuple1[1]='f' not possible immutable"
   ]
  },
  {
   "cell_type": "markdown",
   "metadata": {},
   "source": [
    "## Linked List"
   ]
  },
  {
   "cell_type": "code",
   "execution_count": 106,
   "metadata": {},
   "outputs": [],
   "source": [
    "# creation of single linked list\n",
    "\n",
    "class Node:\n",
    "    def __init__(self,value=None):\n",
    "        self.value = value\n",
    "        self.next = None\n",
    "class SingleLinkedList:\n",
    "    def __init__(self):\n",
    "        self.head = None\n",
    "        self.tail = None\n",
    "        \n",
    "slinkedlist = SingleLinkedList()\n",
    "node1=Node(1)\n",
    "node2=Node(2)\n",
    "slinkedlist.head = node1\n",
    "slinkedlist.head.next = node2\n",
    "slinkedlist.tail = node2"
   ]
  },
  {
   "cell_type": "markdown",
   "metadata": {},
   "source": [
    "## stack\n",
    "### Last-IN First-OUT LIFO"
   ]
  },
  {
   "cell_type": "raw",
   "metadata": {},
   "source": [
    "# operations on stack\n",
    "# create stack\n",
    "# push -> add element on top of the stack\n",
    "# pop -> return top element and delete it from stack\n",
    "# peek -> return top element\n",
    "# isEmpty -> check if stack is empty\n",
    "# isFull -> check if stack is empty\n",
    "# deleteStack -> delete the stack\n"
   ]
  },
  {
   "cell_type": "code",
   "execution_count": 132,
   "metadata": {},
   "outputs": [
    {
     "name": "stdout",
     "output_type": "stream",
     "text": [
      "1\n",
      "2\n",
      "3\n",
      "1\n",
      "2\n",
      "3\n",
      "1\n",
      "2\n",
      "3\n",
      "pop 3\n",
      "2\n"
     ]
    }
   ],
   "source": [
    "# stack using python list No size limit\n",
    "class stack:\n",
    "    def __init__(self):\n",
    "        self.list = []\n",
    "    def __str__(self):\n",
    "        values=self.list\n",
    "        values=[str(x) for x in self.list]\n",
    "        return '\\n'.join(values)\n",
    "    def isEmpty(self):\n",
    "        if self.list == []:\n",
    "            return True\n",
    "        else:\n",
    "            return False\n",
    "        \n",
    "    def push(self,value):\n",
    "        self.list.append(value)\n",
    "        return \"the element is inserted succssfully\"\n",
    "    \n",
    "    def pop(self):\n",
    "        if self.isEmpty():\n",
    "            return \"stack empty\"\n",
    "        else:\n",
    "            return self.list.pop()               #---------->O(1)\n",
    "    \n",
    "    def peek(self):\n",
    "        if self.isEmpty():\n",
    "            return \"there is not any element in the stack\"\n",
    "        else:\n",
    "            return self.list[len(self.list)-1]\n",
    "    \n",
    "    def delete(self):\n",
    "        self.list = None\n",
    "    \n",
    "    \n",
    "    \n",
    "mystack = stack()\n",
    "mystack.push(1)\n",
    "mystack.push(2)\n",
    "mystack.push(3)\n",
    "print(mystack)\n",
    "print(mystack)\n",
    "print(mystack)\n",
    "print(\"pop\",mystack.pop())\n",
    "print(mystack.peek())\n"
   ]
  },
  {
   "cell_type": "code",
   "execution_count": 135,
   "metadata": {},
   "outputs": [
    {
     "name": "stdout",
     "output_type": "stream",
     "text": [
      "True\n",
      "True\n",
      "pop 2\n",
      "1\n"
     ]
    }
   ],
   "source": [
    "# stack using python list with size limit\n",
    "class stack:\n",
    "    def __init__(self,maxSize):\n",
    "        self.maxSize = maxSize\n",
    "        self.list = []\n",
    "    def __str__(self):\n",
    "        values=self.list\n",
    "        values=[str(x) for x in self.list]\n",
    "        return '\\n'.join(values)\n",
    "    def isEmpty(self):\n",
    "        if self.list == []:\n",
    "            return True\n",
    "        else:\n",
    "            return False\n",
    "        \n",
    "    def isFull(self):\n",
    "        if len(self.list) == self.maxSize:\n",
    "            return True\n",
    "        else:\n",
    "            return False\n",
    "        \n",
    "        \n",
    "    def push(self,value):\n",
    "        if(len(self.list) != self.maxSize):\n",
    "            self.list.append(value)\n",
    "            return \"the element is inserted succssfully\"\n",
    "        else:\n",
    "            return \"stack is full\"\n",
    "    \n",
    "    def pop(self):\n",
    "        if self.isEmpty():\n",
    "            return \"stack empty\"\n",
    "        else:\n",
    "            return self.list.pop()               #---------->O(1)\n",
    "    \n",
    "    def peek(self):\n",
    "        if self.isEmpty():\n",
    "            return \"there is not any element in the stack\"\n",
    "        else:\n",
    "            return self.list[len(self.list)-1]\n",
    "    \n",
    "    def delete(self):\n",
    "        self.list = None\n",
    "    \n",
    "    \n",
    "    \n",
    "mystack = stack(2)\n",
    "print(mystack.isEmpty())\n",
    "mystack.push(1)\n",
    "mystack.push(2)\n",
    "print(mystack.isFull())\n",
    "mystack.push(3)\n",
    "print(\"pop\",mystack.pop())\n",
    "print(mystack.peek())\n"
   ]
  },
  {
   "cell_type": "markdown",
   "metadata": {},
   "source": [
    "# Creating stack using linked list"
   ]
  },
  {
   "cell_type": "code",
   "execution_count": 153,
   "metadata": {},
   "outputs": [
    {
     "name": "stdout",
     "output_type": "stream",
     "text": [
      "\n",
      "True\n",
      "3\n",
      "2\n",
      "1\n",
      "3\n",
      "2\n",
      "1\n",
      "stack is empty\n",
      "3\n",
      "3\n",
      "2\n",
      "1\n",
      "\n",
      "True\n"
     ]
    }
   ],
   "source": [
    "class Node:\n",
    "    def __init__(self, value = None):\n",
    "        self.value = value\n",
    "        self.next = next\n",
    "class LinkedList:\n",
    "    def __init__(self):\n",
    "        self.head = None\n",
    "    def __iter__(self):\n",
    "        curNode = self.head\n",
    "        while curNode:\n",
    "            yield curNode\n",
    "            curNode = curNode.next\n",
    "class Stack:\n",
    "    def __init__(self):\n",
    "        self.LinkedList = LinkedList()\n",
    "    def __str__(self):\n",
    "        values = [str(x.value) for x in self.LinkedList]\n",
    "        return '\\n'.join(values)\n",
    "    def isEmpty(self):\n",
    "        if self.LinkedList.head == None:\n",
    "            return True\n",
    "        else:\n",
    "            return False\n",
    "    def push(self,value):\n",
    "        node = Node(value)\n",
    "        node.next = self.LinkedList.head\n",
    "        self.LinkedList.head = node\n",
    "    def pop(self):\n",
    "        if self.isEmpty():\n",
    "            return \"stack is empty\"\n",
    "        else:\n",
    "            nodeValue = self.LinkedList.head.value\n",
    "            self.LinkedList.head = self.LinkedList.head.next\n",
    "            return nodeValue\n",
    "    def peek(self):\n",
    "        if self.isEmpty():\n",
    "            return \"stack is empty\"\n",
    "        else:\n",
    "            nodeValue = self.LinkedList.head.value\n",
    "            return nodeValue\n",
    "    def delete(self):\n",
    "        self.LinkedList.head = None\n",
    "    \n",
    "        \n",
    "mystack = Stack()\n",
    "print(mystack)\n",
    "print(mystack.isEmpty())\n",
    "mystack.push(1)\n",
    "mystack.push(2)\n",
    "mystack.push(3)\n",
    "print(mystack)\n",
    "print(mystack.pop())\n",
    "print(mystack.pop())\n",
    "print(mystack.pop())\n",
    "print(mystack.pop())\n",
    "mystack.push(1)\n",
    "mystack.push(2)\n",
    "mystack.push(3)\n",
    "print(mystack.peek())\n",
    "print(mystack)\n",
    "mystack.delete()\n",
    "print(mystack)\n",
    "print(mystack.isEmpty())"
   ]
  },
  {
   "cell_type": "markdown",
   "metadata": {},
   "source": [
    "## queue"
   ]
  },
  {
   "cell_type": "raw",
   "metadata": {},
   "source": [
    "#operations FIFO (First In First Out)\n",
    "#create queue\n",
    "#Enqueue -> insertion\n",
    "#Dequeue -> deletion first element\n",
    "#Peek  -> get first element\n",
    "#isEmpty\n",
    "#isFUll\n",
    "#deleteQueue"
   ]
  },
  {
   "cell_type": "code",
   "execution_count": 169,
   "metadata": {},
   "outputs": [
    {
     "name": "stdout",
     "output_type": "stream",
     "text": [
      "True\n",
      "3 2 1\n",
      "3\n",
      "2 1\n",
      "2\n",
      "queue deleted\n",
      "\n"
     ]
    }
   ],
   "source": [
    "# Queue using python list without size limit\n",
    "\n",
    "class Queue:\n",
    "    def __init__(self):\n",
    "        self.items = []\n",
    "    def __str__(self):\n",
    "        values = [str(x) for x in self.items]\n",
    "        return ' '.join(values)\n",
    "    def isEmpty(self):\n",
    "        if(self.items == []):\n",
    "            return True\n",
    "        else:\n",
    "            return False\n",
    "    def enqueue(self,value):\n",
    "        self.items.append(value) #append add value at end\n",
    "        return \"the element is inserted\"\n",
    "    def dequeue(self):\n",
    "        if self.isEmpty():\n",
    "            return \"empty queue\"\n",
    "        else:\n",
    "            return self.items.pop(0)\n",
    "    def peek(self):\n",
    "        if self.isEmpty():\n",
    "            return \"empty queue\"\n",
    "        else:\n",
    "            return self.items[0]\n",
    "    def delete(self):\n",
    "        self.items = []\n",
    "        return \"queue deleted\"\n",
    "        \n",
    "\n",
    "myqueue = Queue()\n",
    "print(myqueue.isEmpty())\n",
    "myqueue.enqueue(3)\n",
    "myqueue.enqueue(2)\n",
    "myqueue.enqueue(1)\n",
    "print(myqueue)\n",
    "print(myqueue.dequeue())\n",
    "print(myqueue)\n",
    "print(myqueue.peek())\n",
    "print(myqueue.delete())\n",
    "print(myqueue)"
   ]
  },
  {
   "cell_type": "raw",
   "metadata": {},
   "source": [
    "## Queue using linked list"
   ]
  },
  {
   "cell_type": "code",
   "execution_count": 178,
   "metadata": {},
   "outputs": [
    {
     "name": "stdout",
     "output_type": "stream",
     "text": [
      "1 2 3 4\n",
      "1\n",
      "2\n",
      "2 3 4\n",
      "\n"
     ]
    }
   ],
   "source": [
    "class Node:\n",
    "    def __init__(self,value=None):\n",
    "        self.value = value\n",
    "        self.next = None\n",
    "    def __str__(self):\n",
    "        return str(self.value)\n",
    "\n",
    "class LinkedList:\n",
    "    def __init__(self):\n",
    "        self.head = None\n",
    "        self.tail = None\n",
    "    \n",
    "    def __iter__(self):\n",
    "        curNode = self.head\n",
    "        while(curNode):\n",
    "            yield curNode\n",
    "            curNode = curNode.next\n",
    "\n",
    "class Queue:\n",
    "    def __init__(self):\n",
    "        self.linkedList = LinkedList()\n",
    "        \n",
    "    def __str__(self):\n",
    "        values = [str(x) for x in self.linkedList]\n",
    "        return ' '.join(values)\n",
    "    \n",
    "    def enqueue(self, value):\n",
    "        newNode = Node(value)\n",
    "        if self.linkedList.head == None:\n",
    "            self.linkedList.head = newNode\n",
    "            self.linkedList.tail = newNode\n",
    "        else:\n",
    "            self.linkedList.tail.next = newNode\n",
    "            self.linkedList.tail = newNode\n",
    "            \n",
    "    def isEmpty(self):\n",
    "        if self.linkedList.head == None:\n",
    "            return True\n",
    "        else:\n",
    "            return False\n",
    "    \n",
    "    def dequeue(self):\n",
    "        if(self.isEmpty()):\n",
    "            return \"empty queue\"\n",
    "        else:\n",
    "            tempNode = self.linkedList.head\n",
    "            if(self.linkedList.head==self.linkedList.tail):\n",
    "                self.linkedList.head = None\n",
    "                self.linkedList.tail = None\n",
    "            else:\n",
    "                self.linkedList.head = self.linkedList.head.next\n",
    "                return tempNode\n",
    "    \n",
    "    def peek(self):\n",
    "        if self.isEmpty():\n",
    "            return \"empty queue\"\n",
    "        else:\n",
    "            return self.linkedList.head\n",
    "        \n",
    "    def delete(self):\n",
    "        self.linkedList.head = None\n",
    "        self.linkedList.tail = None\n",
    "        \n",
    "custQueue = Queue()\n",
    "custQueue.enqueue(1)\n",
    "custQueue.enqueue(2)\n",
    "custQueue.enqueue(3)\n",
    "custQueue.enqueue(4)\n",
    "print(custQueue)\n",
    "print(custQueue.dequeue())\n",
    "print(custQueue.peek())\n",
    "print(custQueue)\n",
    "custQueue.delete()\n",
    "print(custQueue)"
   ]
  },
  {
   "cell_type": "markdown",
   "metadata": {},
   "source": [
    "## queue using python module"
   ]
  },
  {
   "cell_type": "code",
   "execution_count": 5,
   "metadata": {},
   "outputs": [
    {
     "name": "stdout",
     "output_type": "stream",
     "text": [
      "deque([], maxlen=10)\n",
      "deque([5, 1, 2, 3], maxlen=10)\n",
      "left pop  5\n",
      "right pop 3\n"
     ]
    }
   ],
   "source": [
    "from collections import deque  #fastest \n",
    "\n",
    "myqueue = deque(maxlen=10)\n",
    "print(myqueue)\n",
    "myqueue.append(1)\n",
    "myqueue.append(2)\n",
    "myqueue.append(3)  #append right\n",
    "myqueue.appendleft(5)\n",
    "print(myqueue)\n",
    "print(\"left pop \", myqueue.popleft())   \n",
    "print(\"right pop\", myqueue.pop()) #pop right\n",
    "myqueue.clear() #delete all emement\n",
    "\n",
    "# using deque as stack (LIFO)\n",
    "# use myqueue.append() and myqueue.pop()\n",
    "\n",
    "# using deque as queu (FIFO)\n",
    "# use myqueue.append()  and myqueue.popleft()"
   ]
  },
  {
   "cell_type": "code",
   "execution_count": 193,
   "metadata": {},
   "outputs": [
    {
     "name": "stdout",
     "output_type": "stream",
     "text": [
      "0\n",
      "1\n"
     ]
    }
   ],
   "source": [
    "import queue as q\n",
    "myqueue = q.Queue(maxsize=3)\n",
    "print(myqueue.qsize())\n",
    "myqueue.put(1)\n",
    "myqueue.put(1)\n",
    "myqueue.put(2)\n",
    "print(myqueue.get())"
   ]
  },
  {
   "cell_type": "code",
   "execution_count": null,
   "metadata": {},
   "outputs": [],
   "source": [
    "# "
   ]
  }
 ],
 "metadata": {
  "kernelspec": {
   "display_name": "Python 3",
   "language": "python",
   "name": "python3"
  },
  "language_info": {
   "codemirror_mode": {
    "name": "ipython",
    "version": 3
   },
   "file_extension": ".py",
   "mimetype": "text/x-python",
   "name": "python",
   "nbconvert_exporter": "python",
   "pygments_lexer": "ipython3",
   "version": "3.8.5"
  }
 },
 "nbformat": 4,
 "nbformat_minor": 4
}
