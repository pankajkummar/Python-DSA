{
 "cells": [
  {
   "cell_type": "markdown",
   "metadata": {},
   "source": [
    "# Binary tree"
   ]
  },
  {
   "cell_type": "code",
   "execution_count": 3,
   "metadata": {},
   "outputs": [],
   "source": [
    "#binary tree definition in python\n",
    "class TreeNode:\n",
    "    def __init__(self,data):\n",
    "        self.data=data\n",
    "        self.leftChild = None\n",
    "        self.rightChild = None"
   ]
  },
  {
   "cell_type": "code",
   "execution_count": 4,
   "metadata": {},
   "outputs": [
    {
     "name": "stdout",
     "output_type": "stream",
     "text": [
      "Hot\n"
     ]
    }
   ],
   "source": [
    "newBt = TreeNode(\"Drinks\")\n",
    "leftChild = TreeNode(\"Hot\")\n",
    "rightChild = TreeNode(\"Cold\")\n",
    "newBt.leftChild = leftChild\n",
    "newBt.rightChild = rightChild\n",
    "print(newBt.leftChild.data)"
   ]
  },
  {
   "cell_type": "code",
   "execution_count": 5,
   "metadata": {},
   "outputs": [],
   "source": [
    "N1 = TreeNode(\"N1\")\n",
    "N2 = TreeNode(\"N2\")\n",
    "N3 = TreeNode(\"N3\")\n",
    "N4 = TreeNode(\"N4\")\n",
    "N5 = TreeNode(\"N5\")\n",
    "N6 = TreeNode(\"N6\")\n",
    "N7 = TreeNode(\"N7\")\n",
    "N8 = TreeNode(\"N8\")\n",
    "N9 = TreeNode(\"N9\")\n",
    "N10 = TreeNode(\"N10\")\n",
    "N4.leftChild = N9\n",
    "N4.rightChild = N10\n",
    "N2.leftChild = N4\n",
    "N2.rightChild = N5\n",
    "N3.leftChild = N6\n",
    "N3.rightChild = N7\n",
    "N1.leftChild = N2\n",
    "N1.rightChild = N3"
   ]
  },
  {
   "cell_type": "markdown",
   "metadata": {},
   "source": [
    "# preorder traversal of a binary tree\n",
    "\n",
    "### first visit Root Node -> Left subtree -> Right subtree\n",
    "### time complexity: O(n), space complexity: O(n)"
   ]
  },
  {
   "cell_type": "code",
   "execution_count": 6,
   "metadata": {
    "scrolled": true
   },
   "outputs": [
    {
     "name": "stdout",
     "output_type": "stream",
     "text": [
      "N1\n",
      "N2\n",
      "N4\n",
      "N9\n",
      "N10\n",
      "N5\n",
      "N3\n",
      "N6\n",
      "N7\n"
     ]
    }
   ],
   "source": [
    "def preOrderTraversal(rootNode):\n",
    "    if not rootNode:\n",
    "        return\n",
    "    print(rootNode.data)\n",
    "    preOrderTraversal(rootNode.leftChild)\n",
    "    preOrderTraversal(rootNode.rightChild)\n",
    "    \n",
    "preOrderTraversal(N1)"
   ]
  },
  {
   "cell_type": "markdown",
   "metadata": {},
   "source": [
    "# Inorder Traversal of a binary tree\n",
    "### first visit left Subtree -> Root Node -> Right Subtree\n",
    "### space complexity O(n), time complexity O(n)"
   ]
  },
  {
   "cell_type": "code",
   "execution_count": 7,
   "metadata": {},
   "outputs": [
    {
     "name": "stdout",
     "output_type": "stream",
     "text": [
      "N9\n",
      "N4\n",
      "N10\n",
      "N2\n",
      "N5\n",
      "N1\n",
      "N6\n",
      "N3\n",
      "N7\n"
     ]
    }
   ],
   "source": [
    "def inOrderTraversal(rootNode):\n",
    "    if not rootNode:\n",
    "        return\n",
    "    inOrderTraversal(rootNode.leftChild)\n",
    "    print(rootNode.data)\n",
    "    inOrderTraversal(rootNode.rightChild)\n",
    "    \n",
    "inOrderTraversal(N1)"
   ]
  },
  {
   "cell_type": "markdown",
   "metadata": {},
   "source": [
    "## PostOrder traversal\n",
    "### Left Subtree -> Right Subtree -> Root Node\n",
    "### Time Complexity O(n), Space Complexity O(n)"
   ]
  },
  {
   "cell_type": "code",
   "execution_count": 8,
   "metadata": {},
   "outputs": [
    {
     "name": "stdout",
     "output_type": "stream",
     "text": [
      "N9\n",
      "N10\n",
      "N4\n",
      "N5\n",
      "N2\n",
      "N6\n",
      "N7\n",
      "N3\n",
      "N1\n"
     ]
    }
   ],
   "source": [
    "def postOrderTraversal(rootNode):\n",
    "    if not rootNode:\n",
    "        return \n",
    "    postOrderTraversal(rootNode.leftChild)\n",
    "    postOrderTraversal(rootNode.rightChild)\n",
    "    print(rootNode.data)\n",
    "    \n",
    "postOrderTraversal(N1)"
   ]
  },
  {
   "cell_type": "markdown",
   "metadata": {},
   "source": [
    "## LevelOrder Traversal\n",
    "### visit tree level by level -- level 1 -> level 2 -> level 3 -> ...\n",
    "### space complexity -                           time complexity -\n"
   ]
  },
  {
   "cell_type": "code",
   "execution_count": 20,
   "metadata": {},
   "outputs": [
    {
     "name": "stdout",
     "output_type": "stream",
     "text": [
      "N1\n",
      "N2\n",
      "N3\n",
      "N4\n",
      "N5\n",
      "N6\n",
      "N7\n",
      "N9\n",
      "N10\n"
     ]
    }
   ],
   "source": [
    "from collections import deque \n",
    "def levelOrderTraversal(rootNode):\n",
    "    if not rootNode:\n",
    "        return\n",
    "    else:\n",
    "        myqueue = deque()\n",
    "        myqueue.append(rootNode)\n",
    "        while myqueue:\n",
    "            root = myqueue.popleft()\n",
    "            if(root):\n",
    "                print(root.data)\n",
    "            else:\n",
    "                break\n",
    "            if(root.leftChild is not None):\n",
    "                myqueue.append(root.leftChild)\n",
    "            if(rootNode.rightChild is not None):\n",
    "                myqueue.append(root.rightChild)\n",
    "        \n",
    "levelOrderTraversal(N1)\n",
    "    "
   ]
  },
  {
   "cell_type": "code",
   "execution_count": null,
   "metadata": {},
   "outputs": [],
   "source": []
  }
 ],
 "metadata": {
  "kernelspec": {
   "display_name": "Python 3",
   "language": "python",
   "name": "python3"
  },
  "language_info": {
   "codemirror_mode": {
    "name": "ipython",
    "version": 3
   },
   "file_extension": ".py",
   "mimetype": "text/x-python",
   "name": "python",
   "nbconvert_exporter": "python",
   "pygments_lexer": "ipython3",
   "version": "3.8.5"
  }
 },
 "nbformat": 4,
 "nbformat_minor": 4
}
